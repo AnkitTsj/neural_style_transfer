{
 "cells": [
  {
   "metadata": {
    "ExecuteTime": {
     "end_time": "2024-12-21T16:05:44.381333Z",
     "start_time": "2024-12-21T16:05:38.426687Z"
    }
   },
   "cell_type": "code",
   "source": [
    "from preprocess import *\n",
    "from model import *\n",
    "from plotr import *\n",
    "import time"
   ],
   "id": "513b9e3c534b60a",
   "outputs": [
    {
     "name": "stderr",
     "output_type": "stream",
     "text": [
      "C:\\Users\\Ankit Kumar\\anaconda3\\Lib\\site-packages\\torchvision\\models\\_utils.py:208: UserWarning: The parameter 'pretrained' is deprecated since 0.13 and may be removed in the future, please use 'weights' instead.\n",
      "  warnings.warn(\n",
      "C:\\Users\\Ankit Kumar\\anaconda3\\Lib\\site-packages\\torchvision\\models\\_utils.py:223: UserWarning: Arguments other than a weight enum or `None` for 'weights' are deprecated since 0.13 and may be removed in the future. The current behavior is equivalent to passing `weights=VGG19_Weights.IMAGENET1K_V1`. You can also use `weights=VGG19_Weights.DEFAULT` to get the most up-to-date weights.\n",
      "  warnings.warn(msg)\n"
     ]
    }
   ],
   "execution_count": 1
  },
  {
   "metadata": {},
   "cell_type": "markdown",
   "source": [
    "# Preprocessing the preloaded style and content images \n",
    "## (from the images folder)"
   ],
   "id": "447608fe5a01762d"
  },
  {
   "metadata": {
    "ExecuteTime": {
     "end_time": "2024-12-21T16:05:59.229688Z",
     "start_time": "2024-12-21T16:05:59.226182Z"
    }
   },
   "cell_type": "code",
   "source": [
    "#preloaded content and style images\n",
    "#To change go to images directory and replace the file name\n",
    "content_1 = content_1\n",
    "content_2 = content_2\n",
    "style = style_image"
   ],
   "id": "62b7c4e3a6055cb9",
   "outputs": [],
   "execution_count": 4
  },
  {
   "metadata": {
    "ExecuteTime": {
     "end_time": "2024-12-21T16:07:02.138998Z",
     "start_time": "2024-12-21T16:07:02.112548Z"
    }
   },
   "cell_type": "code",
   "source": [
    "#To preprocess images to fit the model requirements (VGG-19_ here)\n",
    "content_image1 = preprocess_image(content_1)\n",
    "content_image2 = preprocess_image(content_2)\n",
    "style_image = preprocess_image(style_image)"
   ],
   "id": "bac67b7ba1a5a522",
   "outputs": [],
   "execution_count": 6
  },
  {
   "metadata": {
    "ExecuteTime": {
     "end_time": "2024-12-21T16:09:04.212554Z",
     "start_time": "2024-12-21T16:09:04.204942Z"
    }
   },
   "cell_type": "code",
   "source": [
    "#Initially setting the content image as generated image\n",
    "generated_image = content_image1.clone().requires_grad_(True)"
   ],
   "id": "3cc81a9b3fefb0b5",
   "outputs": [],
   "execution_count": 10
  },
  {
   "metadata": {},
   "cell_type": "markdown",
   "source": "# An Instance of class that helps in clipping the features of hidden layers (declared in preprocess.py)",
   "id": "f5ee33081df6790c"
  },
  {
   "metadata": {
    "ExecuteTime": {
     "end_time": "2024-12-21T16:07:48.080236Z",
     "start_time": "2024-12-21T16:07:47.767391Z"
    }
   },
   "cell_type": "code",
   "source": [
    "hooker = Hooker(vgg, style_layers + content_layers) #hooks feature to a dictionary and returns features\n",
    "content_feats = hooker.extract_feats(content_image1) # feature extractor function\n",
    "style_feats = hooker.extract_feats(content_image1)"
   ],
   "id": "bd6e4b63d748724d",
   "outputs": [],
   "execution_count": 8
  },
  {
   "metadata": {
    "ExecuteTime": {
     "end_time": "2024-12-21T14:04:30.741667Z",
     "start_time": "2024-12-21T14:04:30.737246Z"
    }
   },
   "cell_type": "code",
   "source": [
    "#keys represent layer name\n",
    "for name in vgg.named_modules():\n",
    "    print(name)"
   ],
   "id": "df7f73b6cfa96a1d",
   "outputs": [
    {
     "name": "stdout",
     "output_type": "stream",
     "text": [
      "('', Sequential(\n",
      "  (0): Conv2d(3, 64, kernel_size=(3, 3), stride=(1, 1), padding=(1, 1))\n",
      "  (1): ReLU(inplace=True)\n",
      "  (2): Conv2d(64, 64, kernel_size=(3, 3), stride=(1, 1), padding=(1, 1))\n",
      "  (3): ReLU(inplace=True)\n",
      "  (4): MaxPool2d(kernel_size=2, stride=2, padding=0, dilation=1, ceil_mode=False)\n",
      "  (5): Conv2d(64, 128, kernel_size=(3, 3), stride=(1, 1), padding=(1, 1))\n",
      "  (6): ReLU(inplace=True)\n",
      "  (7): Conv2d(128, 128, kernel_size=(3, 3), stride=(1, 1), padding=(1, 1))\n",
      "  (8): ReLU(inplace=True)\n",
      "  (9): MaxPool2d(kernel_size=2, stride=2, padding=0, dilation=1, ceil_mode=False)\n",
      "  (10): Conv2d(128, 256, kernel_size=(3, 3), stride=(1, 1), padding=(1, 1))\n",
      "  (11): ReLU(inplace=True)\n",
      "  (12): Conv2d(256, 256, kernel_size=(3, 3), stride=(1, 1), padding=(1, 1))\n",
      "  (13): ReLU(inplace=True)\n",
      "  (14): Conv2d(256, 256, kernel_size=(3, 3), stride=(1, 1), padding=(1, 1))\n",
      "  (15): ReLU(inplace=True)\n",
      "  (16): Conv2d(256, 256, kernel_size=(3, 3), stride=(1, 1), padding=(1, 1))\n",
      "  (17): ReLU(inplace=True)\n",
      "  (18): MaxPool2d(kernel_size=2, stride=2, padding=0, dilation=1, ceil_mode=False)\n",
      "  (19): Conv2d(256, 512, kernel_size=(3, 3), stride=(1, 1), padding=(1, 1))\n",
      "  (20): ReLU(inplace=True)\n",
      "  (21): Conv2d(512, 512, kernel_size=(3, 3), stride=(1, 1), padding=(1, 1))\n",
      "  (22): ReLU(inplace=True)\n",
      "  (23): Conv2d(512, 512, kernel_size=(3, 3), stride=(1, 1), padding=(1, 1))\n",
      "  (24): ReLU(inplace=True)\n",
      "  (25): Conv2d(512, 512, kernel_size=(3, 3), stride=(1, 1), padding=(1, 1))\n",
      "  (26): ReLU(inplace=True)\n",
      "  (27): MaxPool2d(kernel_size=2, stride=2, padding=0, dilation=1, ceil_mode=False)\n",
      "  (28): Conv2d(512, 512, kernel_size=(3, 3), stride=(1, 1), padding=(1, 1))\n",
      "  (29): ReLU(inplace=True)\n",
      "  (30): Conv2d(512, 512, kernel_size=(3, 3), stride=(1, 1), padding=(1, 1))\n",
      "  (31): ReLU(inplace=True)\n",
      "  (32): Conv2d(512, 512, kernel_size=(3, 3), stride=(1, 1), padding=(1, 1))\n",
      "  (33): ReLU(inplace=True)\n",
      "  (34): Conv2d(512, 512, kernel_size=(3, 3), stride=(1, 1), padding=(1, 1))\n",
      "  (35): ReLU(inplace=True)\n",
      "  (36): MaxPool2d(kernel_size=2, stride=2, padding=0, dilation=1, ceil_mode=False)\n",
      "))\n",
      "('0', Conv2d(3, 64, kernel_size=(3, 3), stride=(1, 1), padding=(1, 1)))\n",
      "('1', ReLU(inplace=True))\n",
      "('2', Conv2d(64, 64, kernel_size=(3, 3), stride=(1, 1), padding=(1, 1)))\n",
      "('3', ReLU(inplace=True))\n",
      "('4', MaxPool2d(kernel_size=2, stride=2, padding=0, dilation=1, ceil_mode=False))\n",
      "('5', Conv2d(64, 128, kernel_size=(3, 3), stride=(1, 1), padding=(1, 1)))\n",
      "('6', ReLU(inplace=True))\n",
      "('7', Conv2d(128, 128, kernel_size=(3, 3), stride=(1, 1), padding=(1, 1)))\n",
      "('8', ReLU(inplace=True))\n",
      "('9', MaxPool2d(kernel_size=2, stride=2, padding=0, dilation=1, ceil_mode=False))\n",
      "('10', Conv2d(128, 256, kernel_size=(3, 3), stride=(1, 1), padding=(1, 1)))\n",
      "('11', ReLU(inplace=True))\n",
      "('12', Conv2d(256, 256, kernel_size=(3, 3), stride=(1, 1), padding=(1, 1)))\n",
      "('13', ReLU(inplace=True))\n",
      "('14', Conv2d(256, 256, kernel_size=(3, 3), stride=(1, 1), padding=(1, 1)))\n",
      "('15', ReLU(inplace=True))\n",
      "('16', Conv2d(256, 256, kernel_size=(3, 3), stride=(1, 1), padding=(1, 1)))\n",
      "('17', ReLU(inplace=True))\n",
      "('18', MaxPool2d(kernel_size=2, stride=2, padding=0, dilation=1, ceil_mode=False))\n",
      "('19', Conv2d(256, 512, kernel_size=(3, 3), stride=(1, 1), padding=(1, 1)))\n",
      "('20', ReLU(inplace=True))\n",
      "('21', Conv2d(512, 512, kernel_size=(3, 3), stride=(1, 1), padding=(1, 1)))\n",
      "('22', ReLU(inplace=True))\n",
      "('23', Conv2d(512, 512, kernel_size=(3, 3), stride=(1, 1), padding=(1, 1)))\n",
      "('24', ReLU(inplace=True))\n",
      "('25', Conv2d(512, 512, kernel_size=(3, 3), stride=(1, 1), padding=(1, 1)))\n",
      "('26', ReLU(inplace=True))\n",
      "('27', MaxPool2d(kernel_size=2, stride=2, padding=0, dilation=1, ceil_mode=False))\n",
      "('28', Conv2d(512, 512, kernel_size=(3, 3), stride=(1, 1), padding=(1, 1)))\n",
      "('29', ReLU(inplace=True))\n",
      "('30', Conv2d(512, 512, kernel_size=(3, 3), stride=(1, 1), padding=(1, 1)))\n",
      "('31', ReLU(inplace=True))\n",
      "('32', Conv2d(512, 512, kernel_size=(3, 3), stride=(1, 1), padding=(1, 1)))\n",
      "('33', ReLU(inplace=True))\n",
      "('34', Conv2d(512, 512, kernel_size=(3, 3), stride=(1, 1), padding=(1, 1)))\n",
      "('35', ReLU(inplace=True))\n",
      "('36', MaxPool2d(kernel_size=2, stride=2, padding=0, dilation=1, ceil_mode=False))\n"
     ]
    }
   ],
   "execution_count": 9
  },
  {
   "metadata": {},
   "cell_type": "markdown",
   "source": "# Optimization loop for first image",
   "id": "a5825b0269ec3ff6"
  },
  {
   "metadata": {
    "ExecuteTime": {
     "end_time": "2024-12-21T14:57:13.864453Z",
     "start_time": "2024-12-21T14:06:08.420374Z"
    }
   },
   "cell_type": "code",
   "source": [
    "content_losses = []\n",
    "style_losses = []\n",
    "total_losses = []\n",
    "##########\n",
    "#weights for light style fusion\n",
    "##########\n",
    "layers_weights = {\n",
    "    0: 0.1,  # conv1_1\n",
    "    5: 0.15, # conv2_1\n",
    "    10: 0.2, # conv3_1\n",
    "    19: 0.25, # conv4_1\n",
    "    28: 0.3  # conv5_1\n",
    "}\n",
    "#########\n",
    "\"\"\"for higher fusion of style in image use below\"\"\"\n",
    "# layers_weights = {\n",
    "#     0: 0.45,  # conv1_1\n",
    "#     5: 0.65, # conv2_1\n",
    "#     10: 0.85, # conv3_1\n",
    "#     19: 0.45, # conv4_1\n",
    "#     28: 0.55  # conv5_1\n",
    "# }\n",
    "# Training loop\n",
    "optimizer = torch.optim.Adam([generated_image], lr=0.001)\n",
    "alpha = 1e2  # Content loss weight preset for higher fusion\n",
    "beta = 3e6  # Style loss weight\n",
    "epochs = 10000\n",
    "start_time = time.time()\n",
    "\n",
    "\n",
    "for i in range(epochs):\n",
    "    optimizer.zero_grad()\n",
    "    optimizer.zero_grad()\n",
    "    content_feats = hooker.extract_feats(content_image1)  \n",
    "    style_feats = hooker.extract_feats(style_image)\n",
    "    generated_feats = hooker.extract_feats(generated_image)\n",
    "    J_content = compute_content_cost(content_feats, generated_feats)\n",
    "    J_style = compute_style_cost(style_feats, generated_feats, layers_weights)\n",
    "    J_total = alpha * J_content + beta * J_style\n",
    "    J_total.backward()\n",
    "    optimizer.step()\n",
    "    generated_image.data.clamp_(0, 1)\n",
    "    \n",
    "    content_losses.append(J_content.item())\n",
    "    style_losses.append(J_style.item())\n",
    "    total_losses.append(J_total.item())\n",
    "    \n",
    "    if i % 100 == 0:\n",
    "        print(f\"Iteration {i}: Total Loss {J_total.item()}\")\n",
    "        img = postprocess_image(generated_image)\n",
    "        img.save(f\"output/output_1/Image_{i}.jpg\")\n",
    "\n",
    "end_time = time.time()\n",
    "print(f\"Training completed in {end_time - start_time:.2f} seconds.\")\n",
    "\n"
   ],
   "id": "e5499b7e4b8c6275",
   "outputs": [
    {
     "name": "stdout",
     "output_type": "stream",
     "text": [
      "Iteration 0: Total Loss 0.10525237768888474\n",
      "Iteration 100: Total Loss 0.13217908143997192\n",
      "Iteration 200: Total Loss 0.12047426402568817\n",
      "Iteration 300: Total Loss 0.11706393957138062\n",
      "Iteration 400: Total Loss 0.11527994275093079\n",
      "Iteration 500: Total Loss 0.11411625146865845\n",
      "Iteration 600: Total Loss 0.11323516070842743\n",
      "Iteration 700: Total Loss 0.11240960657596588\n",
      "Iteration 800: Total Loss 0.11160017549991608\n",
      "Iteration 900: Total Loss 0.11072477698326111\n",
      "Iteration 1000: Total Loss 0.10984527319669724\n",
      "Iteration 1100: Total Loss 0.1089157983660698\n",
      "Iteration 1200: Total Loss 0.10784554481506348\n",
      "Iteration 1300: Total Loss 0.10669165849685669\n",
      "Iteration 1400: Total Loss 0.10544496774673462\n",
      "Iteration 1500: Total Loss 0.10428666323423386\n",
      "Iteration 1600: Total Loss 0.10285582393407822\n",
      "Iteration 1700: Total Loss 0.10135762393474579\n",
      "Iteration 1800: Total Loss 0.09993645548820496\n",
      "Iteration 1900: Total Loss 0.09849647432565689\n",
      "Iteration 2000: Total Loss 0.09704551100730896\n",
      "Iteration 2100: Total Loss 0.09605750441551208\n",
      "Iteration 2200: Total Loss 0.09399159252643585\n",
      "Iteration 2300: Total Loss 0.0924307182431221\n",
      "Iteration 2400: Total Loss 0.09088054299354553\n",
      "Iteration 2500: Total Loss 0.08943817019462585\n",
      "Iteration 2600: Total Loss 0.08852077275514603\n",
      "Iteration 2700: Total Loss 0.08643103390932083\n",
      "Iteration 2800: Total Loss 0.08501594513654709\n",
      "Iteration 2900: Total Loss 0.08353372663259506\n",
      "Iteration 3000: Total Loss 0.08201505988836288\n",
      "Iteration 3100: Total Loss 0.08069395273923874\n",
      "Iteration 3200: Total Loss 0.07949937134981155\n",
      "Iteration 3300: Total Loss 0.07835869491100311\n",
      "Iteration 3400: Total Loss 0.0772470086812973\n",
      "Iteration 3500: Total Loss 0.07617790251970291\n",
      "Iteration 3600: Total Loss 0.07534853368997574\n",
      "Iteration 3700: Total Loss 0.0742875337600708\n",
      "Iteration 3800: Total Loss 0.07350393384695053\n",
      "Iteration 3900: Total Loss 0.07272271066904068\n",
      "Iteration 4000: Total Loss 0.0719977617263794\n",
      "Iteration 4100: Total Loss 0.07133012264966965\n",
      "Iteration 4200: Total Loss 0.07065608352422714\n",
      "Iteration 4300: Total Loss 0.07004552334547043\n",
      "Iteration 4400: Total Loss 0.06940191239118576\n",
      "Iteration 4500: Total Loss 0.06877236813306808\n",
      "Iteration 4600: Total Loss 0.06820206344127655\n",
      "Iteration 4700: Total Loss 0.06763648986816406\n",
      "Iteration 4800: Total Loss 0.06707284599542618\n",
      "Iteration 4900: Total Loss 0.06655097752809525\n",
      "Iteration 5000: Total Loss 0.06598691642284393\n",
      "Iteration 5100: Total Loss 0.06544573605060577\n",
      "Iteration 5200: Total Loss 0.06513623893260956\n",
      "Iteration 5300: Total Loss 0.06442021578550339\n",
      "Iteration 5400: Total Loss 0.06400347501039505\n",
      "Iteration 5500: Total Loss 0.0641002207994461\n",
      "Iteration 5600: Total Loss 0.06301690638065338\n",
      "Iteration 5700: Total Loss 0.06258143484592438\n",
      "Iteration 5800: Total Loss 0.06217321753501892\n",
      "Iteration 5900: Total Loss 0.06179319694638252\n",
      "Iteration 6000: Total Loss 0.06139105185866356\n",
      "Iteration 6100: Total Loss 0.06102881580591202\n",
      "Iteration 6200: Total Loss 0.06065329909324646\n",
      "Iteration 6300: Total Loss 0.0603046640753746\n",
      "Iteration 6400: Total Loss 0.0599210150539875\n",
      "Iteration 6500: Total Loss 0.059524983167648315\n",
      "Iteration 6600: Total Loss 0.059149954468011856\n",
      "Iteration 6700: Total Loss 0.05874369293451309\n",
      "Iteration 6800: Total Loss 0.058371346443891525\n",
      "Iteration 6900: Total Loss 0.058263394981622696\n",
      "Iteration 7000: Total Loss 0.057697661221027374\n",
      "Iteration 7100: Total Loss 0.05739789456129074\n",
      "Iteration 7200: Total Loss 0.057093631476163864\n",
      "Iteration 7300: Total Loss 0.05683189257979393\n",
      "Iteration 7400: Total Loss 0.05653202906250954\n",
      "Iteration 7500: Total Loss 0.056278686970472336\n",
      "Iteration 7600: Total Loss 0.056037455797195435\n",
      "Iteration 7700: Total Loss 0.0557599700987339\n",
      "Iteration 7800: Total Loss 0.055505987256765366\n",
      "Iteration 7900: Total Loss 0.05523616820573807\n",
      "Iteration 8000: Total Loss 0.05526617541909218\n",
      "Iteration 8100: Total Loss 0.05480051785707474\n",
      "Iteration 8200: Total Loss 0.054547376930713654\n",
      "Iteration 8300: Total Loss 0.054451704025268555\n",
      "Iteration 8400: Total Loss 0.05417950823903084\n",
      "Iteration 8500: Total Loss 0.05400901660323143\n",
      "Iteration 8600: Total Loss 0.053796373307704926\n",
      "Iteration 8700: Total Loss 0.053643424063920975\n",
      "Iteration 8800: Total Loss 0.05340639129281044\n",
      "Iteration 8900: Total Loss 0.053249988704919815\n",
      "Iteration 9000: Total Loss 0.053063999861478806\n",
      "Iteration 9100: Total Loss 0.05293124541640282\n",
      "Iteration 9200: Total Loss 0.05272956192493439\n",
      "Iteration 9300: Total Loss 0.05274362862110138\n",
      "Iteration 9400: Total Loss 0.052390627562999725\n",
      "Iteration 9500: Total Loss 0.052240438759326935\n",
      "Iteration 9600: Total Loss 0.052073728293180466\n",
      "Iteration 9700: Total Loss 0.05192793905735016\n",
      "Iteration 9800: Total Loss 0.05175872519612312\n",
      "Iteration 9900: Total Loss 0.05161507800221443\n",
      "Training completed in 3065.44 seconds.\n"
     ]
    }
   ],
   "execution_count": 6
  },
  {
   "metadata": {
    "ExecuteTime": {
     "end_time": "2024-12-21T14:59:38.102848Z",
     "start_time": "2024-12-21T14:59:38.049253Z"
    }
   },
   "cell_type": "code",
   "source": "torch.save(style_feats, 'output/style_features.pt') ",
   "id": "935dd8a2755164fc",
   "outputs": [],
   "execution_count": 7
  },
  {
   "metadata": {
    "ExecuteTime": {
     "end_time": "2024-12-21T14:59:53.602978Z",
     "start_time": "2024-12-21T14:59:53.355036Z"
    }
   },
   "cell_type": "code",
   "source": "plot(content_losses, style_losses, total_losses, 'output/loss_plot1.html') #saves the plot to destined path",
   "id": "912b11b86f7dfca",
   "outputs": [],
   "execution_count": 8
  },
  {
   "metadata": {
    "ExecuteTime": {
     "end_time": "2024-12-21T14:59:55.529954Z",
     "start_time": "2024-12-21T14:59:55.498086Z"
    }
   },
   "cell_type": "code",
   "source": "plot_batched_loss(content_losses, style_losses, total_losses,\"output/final_loss.html\", batch_size=32) # save the batched plot (a better and reduced plot for better interpretability)",
   "id": "a4e45bccd5c37f3b",
   "outputs": [],
   "execution_count": 9
  },
  {
   "metadata": {},
   "cell_type": "markdown",
   "source": "# Processing the second image and preforming Neural Style Tranfer",
   "id": "5cd29f9ea37df28a"
  },
  {
   "metadata": {
    "ExecuteTime": {
     "end_time": "2024-12-21T15:09:09.745337Z",
     "start_time": "2024-12-21T15:09:09.741962Z"
    }
   },
   "cell_type": "code",
   "source": [
    "\n",
    "# style_image = preprocess_image(style_image)\n",
    "generated_image2 = content_image2.clone().requires_grad_(True)"
   ],
   "id": "e124373a9aaf344c",
   "outputs": [],
   "execution_count": 7
  },
  {
   "metadata": {
    "ExecuteTime": {
     "end_time": "2024-12-21T15:09:10.444101Z",
     "start_time": "2024-12-21T15:09:10.437080Z"
    }
   },
   "cell_type": "code",
   "source": [
    "hooker = Hooker(vgg, style_layers + content_layers)\n",
    "content_feats2 = hooker.extract_feats(content_image2)\n",
    "style_feats = hooker.extract_feats(style_image)"
   ],
   "id": "bc229d759d3698ce",
   "outputs": [],
   "execution_count": 8
  },
  {
   "metadata": {},
   "cell_type": "markdown",
   "source": "# Optimization loop for second image",
   "id": "a3bdb9d075a3061f"
  },
  {
   "metadata": {
    "ExecuteTime": {
     "end_time": "2024-12-21T15:38:29.217521Z",
     "start_time": "2024-12-21T15:09:11.175878Z"
    }
   },
   "cell_type": "code",
   "source": [
    "content_losses2 = []\n",
    "style_losses2 = []\n",
    "total_losses2 = []\n",
    "##########\n",
    "#weights for light style fusion\n",
    "##########\n",
    "layers_weights = {\n",
    "    0: 0.1,  # conv1_1\n",
    "    5: 0.15, # conv2_1\n",
    "    10: 0.2, # conv3_1\n",
    "    19: 0.25, # conv4_1\n",
    "    28: 0.3  # conv5_1\n",
    "}\n",
    "#########\n",
    "\"\"\"for higher fusion of style in image use below\"\"\"\n",
    "# layers_weights = {\n",
    "#     0: 0.45,  # conv1_1\n",
    "#     5: 0.65, # conv2_1\n",
    "#     10: 0.85, # conv3_1\n",
    "#     19: 0.45, # conv4_1\n",
    "#     28: 0.55  # conv5_1\n",
    "# }\n",
    "# Training loop\n",
    "optimizer = torch.optim.Adam([generated_image2], lr=0.001)\n",
    "alpha = 1e2  # Content loss weight preset for higher fusion\n",
    "beta = 3e6  # Style loss weight\n",
    "epochs = 10000\n",
    "\n",
    "start_time = time.time()\n",
    "\n",
    "\n",
    "for i in range(epochs):\n",
    "    optimizer.zero_grad()\n",
    "    optimizer.zero_grad()\n",
    "    content_feats2 = hooker.extract_feats(content_image2)  \n",
    "    style_feats = hooker.extract_feats(style_image)\n",
    "    generated_feats2 = hooker.extract_feats(generated_image2)\n",
    "    J_content = compute_content_cost(content_feats2, generated_feats2)\n",
    "    J_style = compute_style_cost(style_feats, generated_feats2, layers_weights)\n",
    "    J_total = alpha * J_content + beta * J_style\n",
    "    J_total.backward()\n",
    "    optimizer.step()\n",
    "    generated_image2.data.clamp_(0, 1)\n",
    "    \n",
    "    content_losses2.append(J_content.item())\n",
    "    style_losses2.append(J_style.item())\n",
    "    total_losses2.append(J_total.item())\n",
    "    \n",
    "    if i % 100 == 0:\n",
    "        print(f\"Iteration {i}: Total Loss {J_total.item()}\")\n",
    "        img = postprocess_image(generated_image2)\n",
    "        img.save(f\"output/output_2/Image2_{i}.jpg\")\n",
    "\n",
    "end_time = time.time()\n",
    "print(f\"Training completed in {end_time - start_time:.2f} seconds.\")\n",
    "\n",
    "# Function to save the loss plot\n"
   ],
   "id": "eba27eb5701c0aed",
   "outputs": [
    {
     "name": "stdout",
     "output_type": "stream",
     "text": [
      "Iteration 0: Total Loss 2.4520576000213623\n",
      "Iteration 100: Total Loss 2.793419599533081\n",
      "Iteration 200: Total Loss 2.6296563148498535\n",
      "Iteration 300: Total Loss 2.558706760406494\n",
      "Iteration 400: Total Loss 2.471503734588623\n",
      "Iteration 500: Total Loss 2.3194544315338135\n",
      "Iteration 600: Total Loss 2.12910532951355\n",
      "Iteration 700: Total Loss 1.9499801397323608\n",
      "Iteration 800: Total Loss 1.7834932804107666\n",
      "Iteration 900: Total Loss 1.6249371767044067\n",
      "Iteration 1000: Total Loss 1.4887752532958984\n",
      "Iteration 1100: Total Loss 1.3817524909973145\n",
      "Iteration 1200: Total Loss 1.2942020893096924\n",
      "Iteration 1300: Total Loss 1.2204540967941284\n",
      "Iteration 1400: Total Loss 1.15749990940094\n",
      "Iteration 1500: Total Loss 1.1034027338027954\n",
      "Iteration 1600: Total Loss 1.0553319454193115\n",
      "Iteration 1700: Total Loss 1.0123648643493652\n",
      "Iteration 1800: Total Loss 0.9732841849327087\n",
      "Iteration 1900: Total Loss 0.9379203915596008\n",
      "Iteration 2000: Total Loss 0.9063148498535156\n",
      "Iteration 2100: Total Loss 0.8773205280303955\n",
      "Iteration 2200: Total Loss 0.8507789373397827\n",
      "Iteration 2300: Total Loss 0.8263846635818481\n",
      "Iteration 2400: Total Loss 0.8037682771682739\n",
      "Iteration 2500: Total Loss 0.7831280827522278\n",
      "Iteration 2600: Total Loss 0.7634841203689575\n",
      "Iteration 2700: Total Loss 0.7454266548156738\n",
      "Iteration 2800: Total Loss 0.7283985614776611\n",
      "Iteration 2900: Total Loss 0.7122250199317932\n",
      "Iteration 3000: Total Loss 0.6969620585441589\n",
      "Iteration 3100: Total Loss 0.6818950772285461\n",
      "Iteration 3200: Total Loss 0.6674010753631592\n",
      "Iteration 3300: Total Loss 0.6540015935897827\n",
      "Iteration 3400: Total Loss 0.6412100195884705\n",
      "Iteration 3500: Total Loss 0.6291825175285339\n",
      "Iteration 3600: Total Loss 0.6176721453666687\n",
      "Iteration 3700: Total Loss 0.606845498085022\n",
      "Iteration 3800: Total Loss 0.5966184735298157\n",
      "Iteration 3900: Total Loss 0.5868071913719177\n",
      "Iteration 4000: Total Loss 0.5774765014648438\n",
      "Iteration 4100: Total Loss 0.5686187744140625\n",
      "Iteration 4200: Total Loss 0.5600982308387756\n",
      "Iteration 4300: Total Loss 0.551931619644165\n",
      "Iteration 4400: Total Loss 0.5440449118614197\n",
      "Iteration 4500: Total Loss 0.5365190505981445\n",
      "Iteration 4600: Total Loss 0.5291365385055542\n",
      "Iteration 4700: Total Loss 0.5220946669578552\n",
      "Iteration 4800: Total Loss 0.5152496099472046\n",
      "Iteration 4900: Total Loss 0.5088755488395691\n",
      "Iteration 5000: Total Loss 0.5029372572898865\n",
      "Iteration 5100: Total Loss 0.4971591830253601\n",
      "Iteration 5200: Total Loss 0.4916333556175232\n",
      "Iteration 5300: Total Loss 0.4863273501396179\n",
      "Iteration 5400: Total Loss 0.48129183053970337\n",
      "Iteration 5500: Total Loss 0.47651901841163635\n",
      "Iteration 5600: Total Loss 0.4720253050327301\n",
      "Iteration 5700: Total Loss 0.46772825717926025\n",
      "Iteration 5800: Total Loss 0.46360594034194946\n",
      "Iteration 5900: Total Loss 0.4596253037452698\n",
      "Iteration 6000: Total Loss 0.4557867646217346\n",
      "Iteration 6100: Total Loss 0.45206892490386963\n",
      "Iteration 6200: Total Loss 0.4484545886516571\n",
      "Iteration 6300: Total Loss 0.4449915289878845\n",
      "Iteration 6400: Total Loss 0.4416796565055847\n",
      "Iteration 6500: Total Loss 0.43838563561439514\n",
      "Iteration 6600: Total Loss 0.43528783321380615\n",
      "Iteration 6700: Total Loss 0.4323697090148926\n",
      "Iteration 6800: Total Loss 0.4295600652694702\n",
      "Iteration 6900: Total Loss 0.4267825484275818\n",
      "Iteration 7000: Total Loss 0.4241209328174591\n",
      "Iteration 7100: Total Loss 0.4215626120567322\n",
      "Iteration 7200: Total Loss 0.4190465807914734\n",
      "Iteration 7300: Total Loss 0.4166375398635864\n",
      "Iteration 7400: Total Loss 0.41431379318237305\n",
      "Iteration 7500: Total Loss 0.4120163917541504\n",
      "Iteration 7600: Total Loss 0.40987640619277954\n",
      "Iteration 7700: Total Loss 0.407792866230011\n",
      "Iteration 7800: Total Loss 0.4057527184486389\n",
      "Iteration 7900: Total Loss 0.4037909209728241\n",
      "Iteration 8000: Total Loss 0.40192437171936035\n",
      "Iteration 8100: Total Loss 0.4001196026802063\n",
      "Iteration 8200: Total Loss 0.3983725905418396\n",
      "Iteration 8300: Total Loss 0.3966297507286072\n",
      "Iteration 8400: Total Loss 0.39493927359580994\n",
      "Iteration 8500: Total Loss 0.3933040201663971\n",
      "Iteration 8600: Total Loss 0.3916541039943695\n",
      "Iteration 8700: Total Loss 0.39005619287490845\n",
      "Iteration 8800: Total Loss 0.3885302245616913\n",
      "Iteration 8900: Total Loss 0.3870552182197571\n",
      "Iteration 9000: Total Loss 0.3856463134288788\n",
      "Iteration 9100: Total Loss 0.3843262195587158\n",
      "Iteration 9200: Total Loss 0.3829704821109772\n",
      "Iteration 9300: Total Loss 0.3816068172454834\n",
      "Iteration 9400: Total Loss 0.3803045153617859\n",
      "Iteration 9500: Total Loss 0.379042387008667\n",
      "Iteration 9600: Total Loss 0.37785831093788147\n",
      "Iteration 9700: Total Loss 0.37673109769821167\n",
      "Iteration 9800: Total Loss 0.37566235661506653\n",
      "Iteration 9900: Total Loss 0.37456822395324707\n",
      "Training completed in 1758.03 seconds.\n"
     ]
    }
   ],
   "execution_count": 9
  },
  {
   "metadata": {
    "ExecuteTime": {
     "end_time": "2024-12-22T06:46:21.621846Z",
     "start_time": "2024-12-22T06:46:16.992409Z"
    }
   },
   "cell_type": "code",
   "source": "",
   "id": "a1b08e402dc27561",
   "outputs": [],
   "execution_count": 1
  },
  {
   "metadata": {},
   "cell_type": "markdown",
   "source": "# Change the output image size",
   "id": "9ae727067b202b7d"
  },
  {
   "metadata": {
    "ExecuteTime": {
     "end_time": "2024-12-22T07:31:19.658766Z",
     "start_time": "2024-12-22T07:31:19.626087Z"
    }
   },
   "cell_type": "code",
   "source": "interpolate_image(\"processed_image_path\",\"save_image_path\",(\"size\"))",
   "id": "c5bffcc3d2c75eb1",
   "outputs": [],
   "execution_count": 8
  },
  {
   "metadata": {},
   "cell_type": "markdown",
   "source": "# Simple loss plot",
   "id": "bac2fd9a80ae9e05"
  },
  {
   "metadata": {
    "ExecuteTime": {
     "end_time": "2024-12-22T07:47:04.527631Z",
     "start_time": "2024-12-22T07:47:04.519264Z"
    }
   },
   "cell_type": "code",
   "source": [
    "filepath = \"output/final_loss.html\"  # Replace with the actual path\n",
    "show_plot(filepath)"
   ],
   "id": "4c572301b61ecfad",
   "outputs": [
    {
     "data": {
      "text/plain": [
       "<IPython.lib.display.IFrame at 0x248a8e2f080>"
      ],
      "text/html": [
       "\n",
       "        <iframe\n",
       "            width=\"100%\"\n",
       "            height=\"600\"\n",
       "            src=\"output/final_loss.html\"\n",
       "            frameborder=\"0\"\n",
       "            allowfullscreen\n",
       "            \n",
       "        ></iframe>\n",
       "        "
      ]
     },
     "execution_count": 10,
     "metadata": {},
     "output_type": "execute_result"
    }
   ],
   "execution_count": 10
  },
  {
   "metadata": {},
   "cell_type": "markdown",
   "source": "# Batched Loss plot ",
   "id": "5d16b7cd2e7a892"
  },
  {
   "metadata": {},
   "cell_type": "markdown",
   "source": "",
   "id": "5374baaa7d56a1a3"
  },
  {
   "metadata": {
    "ExecuteTime": {
     "end_time": "2024-12-22T07:47:13.661608Z",
     "start_time": "2024-12-22T07:47:13.656319Z"
    }
   },
   "cell_type": "code",
   "source": [
    "filepath = \"output/loss_plot1.html\"  # Replace with the actual path\n",
    "show_plot(filepath)"
   ],
   "id": "aaf761b11094f4d8",
   "outputs": [
    {
     "data": {
      "text/plain": [
       "<IPython.lib.display.IFrame at 0x248a9421730>"
      ],
      "text/html": [
       "\n",
       "        <iframe\n",
       "            width=\"100%\"\n",
       "            height=\"600\"\n",
       "            src=\"output/loss_plot1.html\"\n",
       "            frameborder=\"0\"\n",
       "            allowfullscreen\n",
       "            \n",
       "        ></iframe>\n",
       "        "
      ]
     },
     "execution_count": 11,
     "metadata": {},
     "output_type": "execute_result"
    }
   ],
   "execution_count": 11
  }
 ],
 "metadata": {
  "kernelspec": {
   "display_name": "Python 3",
   "language": "python",
   "name": "python3"
  },
  "language_info": {
   "codemirror_mode": {
    "name": "ipython",
    "version": 2
   },
   "file_extension": ".py",
   "mimetype": "text/x-python",
   "name": "python",
   "nbconvert_exporter": "python",
   "pygments_lexer": "ipython2",
   "version": "2.7.6"
  }
 },
 "nbformat": 4,
 "nbformat_minor": 5
}
